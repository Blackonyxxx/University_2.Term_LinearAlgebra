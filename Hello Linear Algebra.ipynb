{
 "cells": [
  {
   "cell_type": "markdown",
   "id": "8d2b0554-03e0-410f-a778-213e3ebf6d34",
   "metadata": {
    "tags": []
   },
   "source": [
    "# Assignment 1\n",
    "__Arif Şevki Yılmaz, 22050111043__\n",
    "\n",
    "This is our first assignment."
   ]
  },
  {
   "cell_type": "code",
   "execution_count": 2,
   "id": "ac0e14e8-20e4-4a0c-8369-1744065be795",
   "metadata": {
    "tags": []
   },
   "outputs": [
    {
     "name": "stdout",
     "output_type": "stream",
     "text": [
      "Hello Linear Algebra\n"
     ]
    }
   ],
   "source": [
    "print(\"Hello Linear Algebra\")"
   ]
  },
  {
   "cell_type": "code",
   "execution_count": 6,
   "id": "2a56d90c-49d3-4b17-b2e3-cb6e271becbe",
   "metadata": {
    "tags": []
   },
   "outputs": [],
   "source": [
    "import numpy\n",
    "import time"
   ]
  },
  {
   "cell_type": "code",
   "execution_count": 8,
   "id": "527cba1b-e4fc-4554-b9e8-1b0c65fe75c1",
   "metadata": {
    "tags": []
   },
   "outputs": [],
   "source": [
    "a=numpy.random.rand(10**7)\n",
    "b=numpy.random.rand(10**7)"
   ]
  },
  {
   "cell_type": "code",
   "execution_count": 13,
   "id": "ed42e9d0-4f62-41d7-85f7-627bfc514b51",
   "metadata": {
    "tags": []
   },
   "outputs": [
    {
     "name": "stdout",
     "output_type": "stream",
     "text": [
      "0.00455474853515625\n"
     ]
    }
   ],
   "source": [
    "start = time.time()\n",
    "a @ b\n",
    "end = time.time()\n",
    "print(end - start)"
   ]
  },
  {
   "cell_type": "code",
   "execution_count": 11,
   "id": "0f2c5639-80e7-4cd0-b81b-b19f6cf3009f",
   "metadata": {
    "tags": []
   },
   "outputs": [
    {
     "name": "stdout",
     "output_type": "stream",
     "text": [
      "2499677.588772257\n"
     ]
    }
   ],
   "source": [
    "print(numpy.inner(a,b))"
   ]
  },
  {
   "cell_type": "markdown",
   "id": "8349e7a5-d0dc-4dca-bd9c-2493bcc2bec5",
   "metadata": {},
   "source": [
    " The expected result of the inner product is a scalar value, but the exact value will vary because of the vectors are randomly produced. It's normal to obtain different results each time the inner product is calculated with newly generated random vectors."
   ]
  }
 ],
 "metadata": {
  "kernelspec": {
   "display_name": "Python 3 (ipykernel)",
   "language": "python",
   "name": "python3"
  },
  "language_info": {
   "codemirror_mode": {
    "name": "ipython",
    "version": 3
   },
   "file_extension": ".py",
   "mimetype": "text/x-python",
   "name": "python",
   "nbconvert_exporter": "python",
   "pygments_lexer": "ipython3",
   "version": "3.11.5"
  }
 },
 "nbformat": 4,
 "nbformat_minor": 5
}
