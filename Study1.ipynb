{
 "cells": [
  {
   "cell_type": "markdown",
   "id": "438148b3",
   "metadata": {},
   "source": [
    "# Assignment 3\n",
    "__Arif Şevki Yılmaz, 22050111043__\n"
   ]
  },
  {
   "cell_type": "code",
   "execution_count": 1,
   "id": "e985d064",
   "metadata": {},
   "outputs": [
    {
     "name": "stdout",
     "output_type": "stream",
     "text": [
      "Austin Reaves\n",
      "RJ Barrett\n"
     ]
    }
   ],
   "source": [
    "print(\"Austin Reaves\")\n",
    "print(\"RJ Barrett\")"
   ]
  },
  {
   "cell_type": "code",
   "execution_count": 4,
   "id": "071fd439",
   "metadata": {},
   "outputs": [
    {
     "name": "stdout",
     "output_type": "stream",
     "text": [
      "Demeaned vector p1d: [-0.68  0.8   3.26  7.14 -1.53  1.91  0.   -0.5   0.3 ]\n",
      "Demeaned vector p2d: [ 3.02  0.2   2.76 -8.56 -0.33 -0.59 -0.4  -0.3   0.2 ]\n"
     ]
    }
   ],
   "source": [
    "import numpy as np\n",
    "\n",
    "p1 = np.array([15.7, 49.4, 37.5, 86, 4, 5.6, 0.9, 0.2, 2.1])\n",
    "p2 = np.array([19.4, 48.8, 37, 70.3, 5.2, 3.1, 0.5, 0.4, 2])\n",
    "averages = np.array([16.38, 48.6, 34.24, 78.86, 5.53, 3.69, 0.9, 0.7, 1.8])\n",
    "\n",
    "p1d = p1 - averages\n",
    "p2d = p2 - averages\n",
    "\n",
    "print(\"Demeaned vector p1d:\", p1d)\n",
    "print(\"Demeaned vector p2d:\", p2d)\n"
   ]
  },
  {
   "cell_type": "code",
   "execution_count": 5,
   "id": "1c9d8998",
   "metadata": {},
   "outputs": [
    {
     "name": "stdout",
     "output_type": "stream",
     "text": [
      "RMS deviation between p1d and p2d: 5.463922075253677\n"
     ]
    }
   ],
   "source": [
    "diff_vector = p1d - p2d\n",
    "\n",
    "rms_deviation = np.sqrt(np.mean(diff_vector ** 2))\n",
    "\n",
    "print(\"RMS deviation between p1d and p2d:\", rms_deviation)\n"
   ]
  },
  {
   "cell_type": "code",
   "execution_count": 6,
   "id": "4fc63b80",
   "metadata": {
    "scrolled": true
   },
   "outputs": [
    {
     "name": "stdout",
     "output_type": "stream",
     "text": [
      "Angle between p1d and p2d in degrees: 133.42645985851917\n"
     ]
    }
   ],
   "source": [
    "dot_product = np.dot(p1d, p2d)\n",
    "\n",
    "magnitude_p1d = np.linalg.norm(p1d)\n",
    "magnitude_p2d = np.linalg.norm(p2d)\n",
    "\n",
    "angle_radians =np.arccos(dot_product / (magnitude_p1d * magnitude_p2d))\n",
    "\n",
    "angle_degrees = np.degrees(angle_radians)\n",
    "\n",
    "print(\"Angle between p1d and p2d in degrees:\", angle_degrees)\n"
   ]
  },
  {
   "cell_type": "code",
   "execution_count": 9,
   "id": "58cc5815",
   "metadata": {},
   "outputs": [
    {
     "name": "stdout",
     "output_type": "stream",
     "text": [
      "Efficiency of player 1: 24.3\n",
      "Efficiency of player 2: 26.599999999999998\n"
     ]
    }
   ],
   "source": [
    "w = np.array([1, 0, 0, 0, 1, 1, 1, 1, -1])\n",
    "\n",
    "efficiency_p1 = np.dot(p1, w)\n",
    "efficiency_p2 = np.dot(p2, w)\n",
    "\n",
    "print(\"Efficiency of player 1:\", efficiency_p1)\n",
    "print(\"Efficiency of player 2:\", efficiency_p2)"
   ]
  },
  {
   "cell_type": "code",
   "execution_count": null,
   "id": "d4ea8990",
   "metadata": {},
   "outputs": [],
   "source": []
  }
 ],
 "metadata": {
  "kernelspec": {
   "display_name": "Python 3 (ipykernel)",
   "language": "python",
   "name": "python3"
  },
  "language_info": {
   "codemirror_mode": {
    "name": "ipython",
    "version": 3
   },
   "file_extension": ".py",
   "mimetype": "text/x-python",
   "name": "python",
   "nbconvert_exporter": "python",
   "pygments_lexer": "ipython3",
   "version": "3.11.5"
  }
 },
 "nbformat": 4,
 "nbformat_minor": 5
}
