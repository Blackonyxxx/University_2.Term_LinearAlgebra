{
 "cells": [
  {
   "cell_type": "markdown",
   "id": "a8c9f96b",
   "metadata": {},
   "source": [
    "# Assignment 4\n",
    "__Arif Şevki Yılmaz, 22050111043__"
   ]
  },
  {
   "cell_type": "code",
   "execution_count": 1,
   "id": "25f748b7",
   "metadata": {},
   "outputs": [],
   "source": [
    "import pandas as pd\n",
    "from sklearn.cluster import KMeans\n",
    "from sklearn.preprocessing import StandardScaler"
   ]
  },
  {
   "cell_type": "code",
   "execution_count": 4,
   "id": "bc31cf85",
   "metadata": {},
   "outputs": [],
   "source": [
    "data = pd.read_excel(\"player_stats.xlsx\")\n",
    "players = data['PLAYER']\n",
    "stats = data.drop('PLAYER', axis=1)"
   ]
  },
  {
   "cell_type": "code",
   "execution_count": 12,
   "id": "d704eb89",
   "metadata": {},
   "outputs": [
    {
     "name": "stderr",
     "output_type": "stream",
     "text": [
      "C:\\Users\\arif0\\anaconda3\\Lib\\site-packages\\sklearn\\cluster\\_kmeans.py:1436: UserWarning: KMeans is known to have a memory leak on Windows with MKL, when there are less chunks than available threads. You can avoid it by setting the environment variable OMP_NUM_THREADS=1.\n",
      "  warnings.warn(\n",
      "C:\\Users\\arif0\\anaconda3\\Lib\\site-packages\\sklearn\\cluster\\_kmeans.py:1436: UserWarning: KMeans is known to have a memory leak on Windows with MKL, when there are less chunks than available threads. You can avoid it by setting the environment variable OMP_NUM_THREADS=1.\n",
      "  warnings.warn(\n"
     ]
    },
    {
     "name": "stdout",
     "output_type": "stream",
     "text": [
      "\n",
      "Results for k=8:\n",
      "Cost (Jclust): 4434.013218962882\n",
      "Group Representatives:\n",
      "Group 1: [86.5         0.38872832  0.62972933  0.75859649  0.8556874   0.31028807\n",
      "  0.25682261  0.43386243  0.16830065  0.30878553]\n",
      "Group 2: [30.5         0.61488439  0.6769852   0.69915789  0.87378641  0.52481481\n",
      "  0.43464912  0.53095238  0.22647059  0.5244186 ]\n",
      "Group 3: [141.           0.32613325   0.69405681   0.62570637   0.79821723\n",
      "   0.40467836   0.1943675    0.3283208    0.20897833   0.28396573]\n",
      "Group 4: [50.          0.54213569  0.63412906  0.78393352  0.89161415  0.41598441\n",
      "  0.35734072  0.43859649  0.18885449  0.44920441]\n",
      "Group 5: [122.5          0.31615286   0.66733961   0.67321637   0.79072276\n",
      "   0.3436214    0.22076023   0.37037037   0.18627451   0.2881137 ]\n",
      "Group 6: [10.5         0.71589595  0.64751009  0.78021053  0.88441208  0.4662963\n",
      "  0.54166667  0.53809524  0.17352941  0.61860465]\n",
      "Group 7: [104.5          0.3805395    0.62195304   0.76304094   0.84567901\n",
      "   0.38230453   0.24220273   0.4047619    0.2254902    0.35529716]\n",
      "Group 8: [68.5         0.46371227  0.6585913   0.68046784  0.8600024   0.41111111\n",
      "  0.31189084  0.37566138  0.20915033  0.40180879]\n",
      "Players in each group:\n",
      "Group 1 (1 players): ['Simone Fontecchio']\n",
      "\n",
      "Results for k=15:\n",
      "Cost (Jclust): 1282.7512012376685\n",
      "Group Representatives:\n",
      "Group 1: [5.         0.71451509 0.62314939 0.79649123 0.91166247 0.41646091\n",
      " 0.57504873 0.51322751 0.17320261 0.59431525]\n",
      "Group 2: [93.          0.39779296  0.63330478  0.78124402  0.87829754  0.31515152\n",
      "  0.27751196  0.47186147  0.18983957  0.3551797 ]\n",
      "Group 3: [134.5          0.34393064   0.68315388   0.61561404   0.79153182\n",
      "   0.38148148   0.19298246   0.28968254   0.19607843   0.30620155]\n",
      "Group 4: [44.5         0.57572254  0.64764468  0.77094737  0.88791802  0.47333333\n",
      "  0.31754386  0.44285714  0.15882353  0.4744186 ]\n",
      "Group 5: [73.          0.49550417  0.65500224  0.67157895  0.86443725  0.40082305\n",
      "  0.32846004  0.35449735  0.26797386  0.43927649]\n",
      "Group 6: [24.5         0.67745665  0.67388964  0.70042105  0.87108954  0.56\n",
      "  0.51315789  0.6         0.24705882  0.59767442]\n",
      "Group 7: [113.5          0.32427746   0.62772544   0.77705263   0.81693635\n",
      "   0.35037037   0.22105263   0.41904762   0.20882353   0.31860465]\n",
      "Group 8: [145.5          0.31358382   0.73997308   0.52884211   0.80539374\n",
      "   0.46         0.20263158   0.33333333   0.25294118   0.27674419]\n",
      "Group 9: [14.5         0.71560694  0.66312248  0.75831579  0.86839266  0.50518519\n",
      "  0.49561404  0.55238095  0.17352941  0.62790698]\n",
      "Group 10: [82.5         0.40867052  0.62261104  0.73642105  0.8360302   0.36444444\n",
      "  0.23421053  0.38571429  0.20882353  0.31627907]\n",
      "Group 11: [64.          0.43192036  0.66218035  0.68935673  0.85556754  0.42139918\n",
      "  0.29532164  0.3968254   0.1503268   0.36434109]\n",
      "Group 12: [103.5          0.36705202   0.60551817   0.77894737   0.84940669\n",
      "   0.31407407   0.23333333   0.37619048   0.13823529   0.29767442]\n",
      "Group 13: [123.5          0.30953757   0.66069987   0.72021053   0.77864078\n",
      "   0.34074074   0.23684211   0.41904762   0.18823529   0.28604651]\n",
      "Group 14: [54.5         0.52023121  0.62462988  0.79284211  0.88263215  0.35851852\n",
      "  0.39385965  0.44285714  0.21470588  0.43488372]\n",
      "Group 15: [34.5         0.55953757  0.68371467  0.70884211  0.87993528  0.50074074\n",
      "  0.39385965  0.47142857  0.20882353  0.46976744]\n",
      "Players in each group:\n",
      "Group 1 (1 players): ['Simone Fontecchio']\n"
     ]
    }
   ],
   "source": [
    "k_values = [8, 15]\n",
    "results = {}\n",
    "for k in k_values:\n",
    "    kmeans = KMeans(n_clusters=k, n_init=10, random_state=42)\n",
    "    kmeans.fit(stats)\n",
    "    cost = kmeans.inertia_\n",
    "    labels = kmeans.labels_\n",
    "    group_representatives = kmeans.cluster_centers_\n",
    "    clusters = {}\n",
    "    for player, label in zip(players, labels):\n",
    "        if label not in clusters:\n",
    "            clusters[label] = [player]\n",
    "        else:\n",
    "            clusters[label].append(player)\n",
    "\n",
    "    results[k] = {'cost': cost, 'group_representatives': group_representatives, 'clusters': clusters}\n",
    "\n",
    "# Report the results\n",
    "for k, result in results.items():\n",
    "    print(f\"\\nResults for k={k}:\")\n",
    "    print(\"Cost (Jclust):\", result['cost'])\n",
    "    print(\"Group Representatives:\")\n",
    "    for i, representative in enumerate(result['group_representatives']):\n",
    "        print(f\"Group {i+1}: {representative}\")\n",
    "    print(\"Players in each group:\")\n",
    "    for i, (label, players) in enumerate(result['clusters'].items()):\n",
    "        print(f\"Group {i+1} ({len(players)} players): {players}\")\n",
    "\n"
   ]
  }
 ],
 "metadata": {
  "kernelspec": {
   "display_name": "Python 3 (ipykernel)",
   "language": "python",
   "name": "python3"
  },
  "language_info": {
   "codemirror_mode": {
    "name": "ipython",
    "version": 3
   },
   "file_extension": ".py",
   "mimetype": "text/x-python",
   "name": "python",
   "nbconvert_exporter": "python",
   "pygments_lexer": "ipython3",
   "version": "3.11.5"
  }
 },
 "nbformat": 4,
 "nbformat_minor": 5
}
